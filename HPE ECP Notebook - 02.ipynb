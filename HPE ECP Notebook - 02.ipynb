{
 "cells": [
  {
   "cell_type": "markdown",
   "id": "1a797d98-015c-472c-add5-da71092338b0",
   "metadata": {},
   "source": [
    "From HPE ECP Notebook - 07:51am - 07/10/2021"
   ]
  }
 ],
 "metadata": {
  "kernelspec": {
   "display_name": "Python 3",
   "language": "python",
   "name": "python3"
  },
  "language_info": {
   "codemirror_mode": {
    "name": "ipython",
    "version": 3
   },
   "file_extension": ".py",
   "mimetype": "text/x-python",
   "name": "python",
   "nbconvert_exporter": "python",
   "pygments_lexer": "ipython3",
   "version": "3.7.3"
  }
 },
 "nbformat": 4,
 "nbformat_minor": 5
}
