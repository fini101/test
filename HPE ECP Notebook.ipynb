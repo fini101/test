{
 "cells": [
  {
   "cell_type": "markdown",
   "id": "ccff09bc-a2ae-4f7a-be32-3b0ea0c6e443",
   "metadata": {},
   "source": [
    "From HPE ECP Notebook - 11:55am - 01/10/2021"
   ]
  }
 ],
 "metadata": {
  "kernelspec": {
   "display_name": "Python 3",
   "language": "python",
   "name": "python3"
  },
  "language_info": {
   "codemirror_mode": {
    "name": "ipython",
    "version": 3
   },
   "file_extension": ".py",
   "mimetype": "text/x-python",
   "name": "python",
   "nbconvert_exporter": "python",
   "pygments_lexer": "ipython3",
   "version": "3.7.3"
  }
 },
 "nbformat": 4,
 "nbformat_minor": 5
}
